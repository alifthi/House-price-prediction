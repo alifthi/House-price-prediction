{
  "nbformat": 4,
  "nbformat_minor": 0,
  "metadata": {
    "colab": {
      "name": "HousePricePrediction.ipynb",
      "provenance": []
    },
    "kernelspec": {
      "name": "python3",
      "display_name": "Python 3"
    },
    "language_info": {
      "name": "python"
    },
    "accelerator": "GPU",
    "gpuClass": "standard"
  },
  "cells": [
    {
      "cell_type": "code",
      "source": [
        "from email.mime import image\n",
        "import os\n",
        "from turtle import shape\n",
        "from unicodedata import numeric \n",
        "os.environ['TF_CPP_MIN_LOG_LEVEL'] = '3'\n",
        "import tensorflow as tf\n",
        "from matplotlib import pyplot as plt\n",
        "from tensorflow.keras import layers as ksl\n",
        "import numpy as np\n",
        "import sklearn as sk\n",
        "import pandas as pd\n",
        "import cv2 as cv\n",
        "from glob import glob\n"
      ],
      "metadata": {
        "id": "hwXwtOpeEQLc"
      },
      "execution_count": 1,
      "outputs": []
    },
    {
      "cell_type": "code",
      "source": [
        "\n",
        "class Model():\n",
        "    def __init__(self,loadWeights = False,loadModel = False,weightAddr = None,modelAddr=None):\n",
        "        if loadModel:\n",
        "            self.net = self.loadModel(modelAddr)\n",
        "        elif not(loadModel and loadWeights):\n",
        "            self.net = self.buildModel()\n",
        "        elif loadWeights:\n",
        "            self.net = self.loadWeights()\n",
        "            self.loadWeights(weightAddr)\n",
        "        else :\n",
        "            print('[Error] incompatible inputs !')\n",
        "        self.bedroom = []\n",
        "        self.bathroom = []\n",
        "        self.frontal = []\n",
        "        self.kitchen =  [] \n",
        "        self.txtFeatur = []\n",
        "        self.const = None\n",
        "        self.label = []\n",
        "        self.const = []\n",
        "        self.label = []\n",
        "        \n",
        "    def split(self):\n",
        "        split = sk.modelselection.train_test_split(self.bedroom,self.bathroom,self.frontal,self.kitchen,self.txtFeatur,self.label,test_size = 0.2)\n",
        "        return split\n",
        "    def loadData(self,txtPath,imgPath):\n",
        "        self.txtFeatur = pd.DataFrame([[float(t) for t in x.split('\\n')[0].split(' ')] for x in open(txtPath).readlines()])\n",
        "        self.txtFeatur.T.loc[[0,1,2,3],:]\n",
        "        self.label = self.txtFeatur.loc[:,4] \n",
        "        self.txtFeatur = self.txtFeatur.T.loc[[0,1,2,3],:].T \n",
        "        max = self.txtFeatur.max()\n",
        "        self.txtFeatur = self.txtFeatur/max\n",
        "        self.const = np.max(self.label)\n",
        "        self.label = self.label/self.const\n",
        "\n",
        "\n",
        "        for i,p in enumerate(glob(imgPath+'/*')):\n",
        "            place = p.split('/')[-1].split('.')[0].split('_')[1]\n",
        "            if place == 'bedroom':\n",
        "                self.bedroom.append(self.preProcess(cv.imread(p)))\n",
        "            elif place == 'bathroom':\n",
        "                self.bathroom.append(self.preProcess(cv.imread(p)))\n",
        "            elif place == 'frontal':\n",
        "                self.frontal.append(self.preProcess(cv.imread(p)))\n",
        "            else:\n",
        "                self.kitchen.append(self.preProcess(cv.imread(p)))\n",
        "            if i%500 == 0:\n",
        "                print('[INFO] {}th image loaded'.format(i))\n",
        "        self.bedroom = np.array(self.bedroom)\n",
        "        self.bathroom = np.array(self.bathroom)\n",
        "        self.frontal = np.array(self.frontal)\n",
        "        self.kitchen = np.array(self.kitchen)\n",
        "\n",
        "    def myLoss(y_true,y_pred):\n",
        "        return tf.reduce_mean(tf.square(y_true - y_pred),axis = -1)\n",
        "    def compile(self,loss,metrics,optim):\n",
        "        self.net.compile(loss = loss,optimizer = optim ,metrics = metrics)\n",
        "\n",
        "    def train(self,e,b):\n",
        "        hist = self.net.fit([self.bedroom,self.bathroom,self.frontal,self.kitchen,self.txtFeatur],self.label,epochs = e,batch_size = b)\n",
        "        return hist\n",
        "\n",
        "    def buildModel(self):\n",
        "        inpIm1 = ksl.Input((128,128,3),name = 'image1Input')\n",
        "        inpIm2 = ksl.Input((128,128,3),name = 'image2Input')\n",
        "        inpIm3 = ksl.Input((128,128,3),name = 'image3Input')\n",
        "        inpIm4 = ksl.Input((128,128,3),name = 'image4Input')\n",
        "        \n",
        "        x = ksl.Conv2D(32,kernel_size=3,strides=1,padding='same')(inpIm1)\n",
        "        x = ksl.Lambda(self.relu)(x)\n",
        "        x = ksl.MaxPool2D([2,2])(x)\n",
        "        x = ksl.Conv2D(64,kernel_size=3,padding='same')(x)\n",
        "        x = ksl.Lambda(self.relu)(x)\n",
        "        x = ksl.MaxPool2D([2,2])(x)\n",
        "        x = ksl.Conv2D(128,kernel_size=3,padding='same')(x)\n",
        "        x = ksl.Lambda(self.relu)(x)\n",
        "        x = ksl.MaxPool2D([2,2])(x)\n",
        "\n",
        "        w = ksl.Conv2D(32,kernel_size=3,strides=1,padding='same')(inpIm2)\n",
        "        w = ksl.Lambda(self.relu)(w)\n",
        "        w = ksl.MaxPool2D([2,2])(w)\n",
        "        w = ksl.Conv2D(64,kernel_size=3,padding='same')(w)\n",
        "        w = ksl.Lambda(self.relu)(w)\n",
        "        w = ksl.MaxPool2D([2,2])(w)\n",
        "        w = ksl.Conv2D(128,kernel_size=3,padding='same')(w)\n",
        "        w = ksl.Lambda(self.relu)(w)\n",
        "        w = ksl.MaxPool2D([2,2])(w)\n",
        "\n",
        "        y = ksl.Conv2D(32,kernel_size=3,strides=1,padding='same')(inpIm3)\n",
        "        y=ksl.Lambda(self.relu)(y)\n",
        "        y = ksl.MaxPool2D([2,2])(y)\n",
        "        y = ksl.Conv2D(64,kernel_size=3,padding='same')(y)\n",
        "        y = ksl.Lambda(self.relu)(y)\n",
        "        y = ksl.MaxPool2D([2,2])(y)\n",
        "        y = ksl.Conv2D(128,kernel_size=3,padding='same')(y)\n",
        "        y = ksl.Lambda(self.relu)(y)\n",
        "        y = ksl.MaxPool2D([2,2])(y)\n",
        "\n",
        "        z = ksl.Conv2D(32,kernel_size=3,strides=1,padding='same')(inpIm4)\n",
        "        z = ksl.MaxPool2D([2,2])(z)\n",
        "        z = ksl.Conv2D(64,kernel_size=3,padding='same')(z)\n",
        "        z = ksl.MaxPool2D([2,2])(z)\n",
        "        z = ksl.Conv2D(64,kernel_size=3,padding='same')(z)\n",
        "        z = ksl.MaxPool2D([2,2])(z)\n",
        "        \n",
        "\n",
        "        inpTxtFeatures = ksl.Input((4,),name = 'numFeatureInput')\n",
        "        t = ksl.Dense(1024,'relu')(inpTxtFeatures)\n",
        "        t = ksl.Dense(512,'relu')(t)\n",
        "        t = ksl.Dense(256,'relu')(t)\n",
        "        t = ksl.Reshape((16,16,1))(t)\n",
        "\n",
        "\n",
        "\n",
        "        concatInput = ksl.concatenate([w,x,y,z,t],axis=3)\n",
        "        out = ksl.Conv2D(128,kernel_size=3,padding='same')(concatInput)\n",
        "        out = ksl.MaxPool2D([2,2])(out)\n",
        "        out = ksl.Conv2D(256,kernel_size=3,padding='same')(out)\n",
        "        out = ksl.MaxPool2D([2,2])(out)\n",
        "        out = ksl.Flatten()(out)\n",
        "        out = ksl.Dense(128,'relu')(out)\n",
        "        out = ksl.Dense(64,'relu')(out)\n",
        "        out = ksl.Dense(1,'linear')(out)\n",
        "        net = tf.keras.Model(inputs = [inpIm1,inpIm2,inpIm3,inpIm4,inpTxtFeatures],outputs = out)\n",
        "        return net\n",
        "    def predict(self,inputList):\n",
        "        numericFeatur = inputList[4:]\n",
        "        numericFeatur = pd.DataFrame(numericFeatur)\n",
        "        max = numericFeatur.max()\n",
        "        numericFeatur = numericFeatur/max\n",
        "        images = inputList[:4]\n",
        "        images = [self.preProcess(im) for im in images]\n",
        "        pred = self.net.predict(np.concatenate((images,numericFeatur.to_numpy())))\n",
        "        return pred*self.const\n",
        "\n",
        "    def saveModel(self,addr):\n",
        "        self.net.save(addr+'/model.h5')\n",
        "        self.net.save_weights(addr+'/modelWeights.h5')\n",
        "    def loadWeights(self,weightAddr):\n",
        "        net = self.buildModel()\n",
        "        net.load_weghts(weightAddr)\n",
        "        return net\n",
        "    @staticmethod\n",
        "    def loadModel(modelAddr):\n",
        "        net = tf.kerasl.models.load_model(modelAddr)\n",
        "        return net\n",
        "\n",
        "    @staticmethod\n",
        "    def preProcess(image):\n",
        "        image = cv.resize(image,(128,128))\n",
        "        image = cv.cvtColor(image,cv.COLOR_BGR2RGB)\n",
        "        image = image/255.0\n",
        "\n",
        "        return image\n",
        "    @staticmethod\n",
        "    def relu(x):\n",
        "        return tf.maximum( 0.0,x)\n",
        "    @staticmethod\n",
        "    def plotHistory(Hist):\n",
        "        # plot History\n",
        "        plt.plot(Hist.history['loss'])\n",
        "        plt.title('model loss')\n",
        "        plt.show()\n",
        "        plt.plot(Hist.history['mse'])\n",
        "        plt.title('model mse')\n",
        "        plt.show()\n",
        "\n"
      ],
      "metadata": {
        "id": "g-dSze_jzDQz"
      },
      "execution_count": 7,
      "outputs": []
    },
    {
      "cell_type": "code",
      "source": [
        "model = Model()\n",
        "txtPath = r'/content/drive/MyDrive/HousePricePredictionData/Data/HousesInfo.txt'\n",
        "imgPath = r'/content/drive/MyDrive/HousePricePredictionData/Data/house_dataset'\n"
      ],
      "metadata": {
        "id": "M8V9jwta5MuI"
      },
      "execution_count": 12,
      "outputs": []
    },
    {
      "cell_type": "code",
      "source": [
        "model.loadData(txtPath=txtPath,imgPath=imgPath)\n",
        "model.compile(loss = 'mse',metrics = ['mse'],optim = tf.keras.optimizers.Adam(learning_rate = 0.001))"
      ],
      "metadata": {
        "colab": {
          "base_uri": "https://localhost:8080/"
        },
        "id": "y8O_ZH0a5PWS",
        "outputId": "9db19f1b-54e9-4aba-93b3-a259711e5b8f"
      },
      "execution_count": 13,
      "outputs": [
        {
          "output_type": "stream",
          "name": "stdout",
          "text": [
            "[INFO] 0th image loaded\n",
            "[INFO] 500th image loaded\n",
            "[INFO] 1000th image loaded\n",
            "[INFO] 1500th image loaded\n",
            "[INFO] 2000th image loaded\n"
          ]
        }
      ]
    },
    {
      "cell_type": "code",
      "source": [
        "Hist = model.train(50,64)"
      ],
      "metadata": {
        "colab": {
          "base_uri": "https://localhost:8080/"
        },
        "id": "gFKmOEkI5OLZ",
        "outputId": "a533250f-5e36-465f-92c2-fd0fa7b7ac5c"
      },
      "execution_count": 14,
      "outputs": [
        {
          "output_type": "stream",
          "name": "stdout",
          "text": [
            "Epoch 1/50\n",
            "9/9 [==============================] - 2s 139ms/step - loss: 0.8504 - mse: 0.8504\n",
            "Epoch 2/50\n",
            "9/9 [==============================] - 1s 138ms/step - loss: 0.0117 - mse: 0.0117\n",
            "Epoch 3/50\n",
            "9/9 [==============================] - 1s 137ms/step - loss: 0.0158 - mse: 0.0158\n",
            "Epoch 4/50\n",
            "9/9 [==============================] - 1s 138ms/step - loss: 0.0106 - mse: 0.0106\n",
            "Epoch 5/50\n",
            "9/9 [==============================] - 1s 138ms/step - loss: 0.0089 - mse: 0.0089\n",
            "Epoch 6/50\n",
            "9/9 [==============================] - 1s 137ms/step - loss: 0.0076 - mse: 0.0076\n",
            "Epoch 7/50\n",
            "9/9 [==============================] - 1s 138ms/step - loss: 0.0076 - mse: 0.0076\n",
            "Epoch 8/50\n",
            "9/9 [==============================] - 1s 139ms/step - loss: 0.0084 - mse: 0.0084\n",
            "Epoch 9/50\n",
            "9/9 [==============================] - 1s 139ms/step - loss: 0.0073 - mse: 0.0073\n",
            "Epoch 10/50\n",
            "9/9 [==============================] - 1s 138ms/step - loss: 0.0079 - mse: 0.0079\n",
            "Epoch 11/50\n",
            "9/9 [==============================] - 1s 138ms/step - loss: 0.0072 - mse: 0.0072\n",
            "Epoch 12/50\n",
            "9/9 [==============================] - 1s 138ms/step - loss: 0.0066 - mse: 0.0066\n",
            "Epoch 13/50\n",
            "9/9 [==============================] - 1s 137ms/step - loss: 0.0065 - mse: 0.0065\n",
            "Epoch 14/50\n",
            "9/9 [==============================] - 1s 138ms/step - loss: 0.0054 - mse: 0.0054\n",
            "Epoch 15/50\n",
            "9/9 [==============================] - 1s 139ms/step - loss: 0.0057 - mse: 0.0057\n",
            "Epoch 16/50\n",
            "9/9 [==============================] - 1s 137ms/step - loss: 0.0057 - mse: 0.0057\n",
            "Epoch 17/50\n",
            "9/9 [==============================] - 1s 138ms/step - loss: 0.0071 - mse: 0.0071\n",
            "Epoch 18/50\n",
            "9/9 [==============================] - 1s 138ms/step - loss: 0.0134 - mse: 0.0134\n",
            "Epoch 19/50\n",
            "9/9 [==============================] - 1s 137ms/step - loss: 0.0089 - mse: 0.0089\n",
            "Epoch 20/50\n",
            "9/9 [==============================] - 1s 139ms/step - loss: 0.0056 - mse: 0.0056\n",
            "Epoch 21/50\n",
            "9/9 [==============================] - 1s 137ms/step - loss: 0.0051 - mse: 0.0051\n",
            "Epoch 22/50\n",
            "9/9 [==============================] - 1s 139ms/step - loss: 0.0052 - mse: 0.0052\n",
            "Epoch 23/50\n",
            "9/9 [==============================] - 1s 138ms/step - loss: 0.0046 - mse: 0.0046\n",
            "Epoch 24/50\n",
            "9/9 [==============================] - 1s 138ms/step - loss: 0.0050 - mse: 0.0050\n",
            "Epoch 25/50\n",
            "9/9 [==============================] - 1s 136ms/step - loss: 0.0055 - mse: 0.0055\n",
            "Epoch 26/50\n",
            "9/9 [==============================] - 1s 140ms/step - loss: 0.0050 - mse: 0.0050\n",
            "Epoch 27/50\n",
            "9/9 [==============================] - 1s 140ms/step - loss: 0.0050 - mse: 0.0050\n",
            "Epoch 28/50\n",
            "9/9 [==============================] - 1s 140ms/step - loss: 0.0050 - mse: 0.0050\n",
            "Epoch 29/50\n",
            "9/9 [==============================] - 1s 140ms/step - loss: 0.0041 - mse: 0.0041\n",
            "Epoch 30/50\n",
            "9/9 [==============================] - 1s 140ms/step - loss: 0.0039 - mse: 0.0039\n",
            "Epoch 31/50\n",
            "9/9 [==============================] - 1s 138ms/step - loss: 0.0044 - mse: 0.0044\n",
            "Epoch 32/50\n",
            "9/9 [==============================] - 1s 139ms/step - loss: 0.0038 - mse: 0.0038\n",
            "Epoch 33/50\n",
            "9/9 [==============================] - 1s 140ms/step - loss: 0.0031 - mse: 0.0031\n",
            "Epoch 34/50\n",
            "9/9 [==============================] - 1s 139ms/step - loss: 0.0030 - mse: 0.0030\n",
            "Epoch 35/50\n",
            "9/9 [==============================] - 1s 139ms/step - loss: 0.0028 - mse: 0.0028\n",
            "Epoch 36/50\n",
            "9/9 [==============================] - 1s 141ms/step - loss: 0.0027 - mse: 0.0027\n",
            "Epoch 37/50\n",
            "9/9 [==============================] - 1s 149ms/step - loss: 0.0021 - mse: 0.0021\n",
            "Epoch 38/50\n",
            "9/9 [==============================] - 1s 145ms/step - loss: 0.0019 - mse: 0.0019\n",
            "Epoch 39/50\n",
            "9/9 [==============================] - 1s 155ms/step - loss: 0.0014 - mse: 0.0014\n",
            "Epoch 40/50\n",
            "9/9 [==============================] - 1s 145ms/step - loss: 0.0014 - mse: 0.0014\n",
            "Epoch 41/50\n",
            "9/9 [==============================] - 1s 138ms/step - loss: 9.9269e-04 - mse: 9.9269e-04\n",
            "Epoch 42/50\n",
            "9/9 [==============================] - 1s 140ms/step - loss: 0.0010 - mse: 0.0010\n",
            "Epoch 43/50\n",
            "9/9 [==============================] - 1s 141ms/step - loss: 7.8905e-04 - mse: 7.8905e-04\n",
            "Epoch 44/50\n",
            "9/9 [==============================] - 1s 141ms/step - loss: 6.1115e-04 - mse: 6.1115e-04\n",
            "Epoch 45/50\n",
            "9/9 [==============================] - 1s 138ms/step - loss: 5.9585e-04 - mse: 5.9585e-04\n",
            "Epoch 46/50\n",
            "9/9 [==============================] - 1s 139ms/step - loss: 2.7188e-04 - mse: 2.7188e-04\n",
            "Epoch 47/50\n",
            "9/9 [==============================] - 1s 138ms/step - loss: 1.9224e-04 - mse: 1.9224e-04\n",
            "Epoch 48/50\n",
            "9/9 [==============================] - 1s 140ms/step - loss: 1.3951e-04 - mse: 1.3951e-04\n",
            "Epoch 49/50\n",
            "9/9 [==============================] - 1s 137ms/step - loss: 9.4127e-05 - mse: 9.4127e-05\n",
            "Epoch 50/50\n",
            "9/9 [==============================] - 1s 139ms/step - loss: 6.2596e-05 - mse: 6.2596e-05\n"
          ]
        }
      ]
    },
    {
      "cell_type": "code",
      "source": [
        "model.plotHistory(Hist)"
      ],
      "metadata": {
        "id": "cjjCch78CwM1",
        "colab": {
          "base_uri": "https://localhost:8080/",
          "height": 545
        },
        "outputId": "54766f64-97ac-45a9-a642-6736704ab6c3"
      },
      "execution_count": 15,
      "outputs": [
        {
          "output_type": "display_data",
          "data": {
            "text/plain": [
              "<Figure size 432x288 with 1 Axes>"
            ],
            "image/png": "[encoded data removed]"
          },
          "metadata": {
            "needs_background": "light"
          }
        },
        {
          "output_type": "display_data",
          "data": {
            "text/plain": [
              "<Figure size 432x288 with 1 Axes>"
            ],
            "image/png": "[encoded data removed]"
          },
          "metadata": {
            "needs_background": "light"
          }
        }
      ]
    },
    {
      "cell_type": "code",
      "source": [
        "model.saveModel('/content/drive/MyDrive/Models')"
      ],
      "metadata": {
        "id": "S2P7GaoUz7NU"
      },
      "execution_count": 16,
      "outputs": []
    },
    {
      "cell_type": "code",
      "source": [
        ""
      ],
      "metadata": {
        "id": "F9OG4l_f1Rpb"
      },
      "execution_count": null,
      "outputs": []
    }
  ]
}